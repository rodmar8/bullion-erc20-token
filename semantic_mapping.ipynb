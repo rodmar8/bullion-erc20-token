{
  "nbformat": 4,
  "nbformat_minor": 0,
  "metadata": {
    "colab": {
      "name": "semantic_mapping.ipynb",
      "provenance": [],
      "mount_file_id": "1SEUat8Q79vhlzHum7hVpe2rjiSgo8zvI",
      "authorship_tag": "ABX9TyN1nfHESPVf4YiTUbb6jUTV",
      "include_colab_link": true
    },
    "kernelspec": {
      "name": "python3",
      "display_name": "Python 3"
    },
    "language_info": {
      "name": "python"
    }
  },
  "cells": [
    {
      "cell_type": "markdown",
      "metadata": {
        "id": "view-in-github",
        "colab_type": "text"
      },
      "source": [
        "<a href=\"https://colab.research.google.com/github/rodmar8/bullion-erc20-token/blob/main/semantic_mapping.ipynb\" target=\"_parent\"><img src=\"https://colab.research.google.com/assets/colab-badge.svg\" alt=\"Open In Colab\"/></a>"
      ]
    },
    {
      "cell_type": "markdown",
      "metadata": {
        "id": "VxmY4rOYckKG"
      },
      "source": [
        "# Mapping website description to Retail Taxonomy using Semantic analysis with BERT\n",
        "\n",
        "**Author:** Marco Kormann Rodrigues</br>\n",
        "**Date created:** 2021/11/12<br>\n",
        "**Last modified:** 2021/11/12<br>\n",
        "**Description:** Natural Language mapping using BERT model "
      ]
    },
    {
      "cell_type": "markdown",
      "metadata": {
        "id": "SONP6wmZdkGq"
      },
      "source": [
        "# Environment setup"
      ]
    },
    {
      "cell_type": "code",
      "metadata": {
        "id": "DtphtxwOci5A"
      },
      "source": [
        "pip install sentence-transformers"
      ],
      "execution_count": null,
      "outputs": []
    },
    {
      "cell_type": "code",
      "metadata": {
        "id": "dEI5vulgdnOp"
      },
      "source": [
        "from sentence_transformers import SentenceTransformer\n",
        "from sklearn.metrics.pairwise import cosine_similarity\n",
        "from google.colab import drive\n",
        "import pandas as pd\n"
      ],
      "execution_count": null,
      "outputs": []
    },
    {
      "cell_type": "markdown",
      "metadata": {
        "id": "aixgR0UFdnhU"
      },
      "source": [
        "# Configuration and Setup"
      ]
    },
    {
      "cell_type": "code",
      "metadata": {
        "id": "vkm-v2vVeE5Z"
      },
      "source": [
        "model = SentenceTransformer('bert-base-nli-mean-tokens')"
      ],
      "execution_count": null,
      "outputs": []
    },
    {
      "cell_type": "code",
      "metadata": {
        "colab": {
          "base_uri": "https://localhost:8080/"
        },
        "id": "RcfL-z-gerJ5",
        "outputId": "11fb12e3-b6c5-46a6-e510-3854326894f7"
      },
      "source": [
        "drive.mount('/content/drive')"
      ],
      "execution_count": null,
      "outputs": [
        {
          "output_type": "stream",
          "name": "stdout",
          "text": [
            "Drive already mounted at /content/drive; to attempt to forcibly remount, call drive.mount(\"/content/drive\", force_remount=True).\n"
          ]
        }
      ]
    },
    {
      "cell_type": "code",
      "metadata": {
        "id": "PDm7EUV2rQ1-"
      },
      "source": [
        "list_matches = []"
      ],
      "execution_count": 37,
      "outputs": []
    },
    {
      "cell_type": "markdown",
      "metadata": {
        "id": "62gC06sFdnkS"
      },
      "source": [
        "# Load the Data"
      ]
    },
    {
      "cell_type": "code",
      "metadata": {
        "id": "AV_DqayJeJ4p"
      },
      "source": [
        "website_csv = '/content/drive/MyDrive/project_data/retail_websites_results.csv'\n",
        "taxonomy_csv = '/content/drive/MyDrive/project_data/taxonomy.csv'"
      ],
      "execution_count": 28,
      "outputs": []
    },
    {
      "cell_type": "markdown",
      "metadata": {
        "id": "Eu9rYyMZnG9c"
      },
      "source": [
        "Load taxonomy into a data frame and data table"
      ]
    },
    {
      "cell_type": "code",
      "metadata": {
        "id": "1pRPbun3e3Pn"
      },
      "source": [
        "tdf = pd.read_csv(taxonomy_csv)\n",
        "tdt = tdf.to_dict(orient='records')"
      ],
      "execution_count": 30,
      "outputs": []
    },
    {
      "cell_type": "markdown",
      "metadata": {
        "id": "L4ibFqmvnLDN"
      },
      "source": [
        "Load website descriptions into data frame and data table"
      ]
    },
    {
      "cell_type": "code",
      "metadata": {
        "id": "Pz6NFBDdnPN7"
      },
      "source": [
        "wdf = pd.read_csv(website_csv)\n",
        "wdt = wdf.to_dict(orient='records')"
      ],
      "execution_count": 31,
      "outputs": []
    },
    {
      "cell_type": "markdown",
      "metadata": {
        "id": "KjZ3AyxBi431"
      },
      "source": [
        "# Functions"
      ]
    },
    {
      "cell_type": "code",
      "metadata": {
        "id": "ta8t7Omji84U"
      },
      "source": [
        "def semantic_similarity(s1, s2):\n",
        "  sentences = [s1, s2]\n",
        "  sentence_embeddings = model.encode(sentences)\n",
        "  return cosine_similarity([sentence_embeddings[0]], sentence_embeddings[1:])[0][0]"
      ],
      "execution_count": 26,
      "outputs": []
    },
    {
      "cell_type": "code",
      "metadata": {
        "colab": {
          "base_uri": "https://localhost:8080/"
        },
        "id": "HToEqdZbjcSL",
        "outputId": "d8e11ee8-b706-47bd-b8d8-442018f47657"
      },
      "source": [
        "# unit test\n",
        "s1 = \"Fractal Analytics helps global Fortune 100 companies power every human decision in the enterprise by bringing analytics and AI to the decision.\"\n",
        "s2 = \"The use of social networks in the context of e-commerce transactions. eCom, eCommerce.\"\n",
        "semantic_similarity(s1, s2)\n"
      ],
      "execution_count": 36,
      "outputs": [
        {
          "output_type": "execute_result",
          "data": {
            "text/plain": [
              "-0.11022799"
            ]
          },
          "metadata": {},
          "execution_count": 36
        }
      ]
    },
    {
      "cell_type": "markdown",
      "metadata": {
        "id": "jRRwr4tumlSg"
      },
      "source": [
        "# Loop through all nodes in the taxonomy and try to match against partner descriptions"
      ]
    },
    {
      "cell_type": "code",
      "metadata": {
        "id": "XlSOfqE4iygx"
      },
      "source": [
        "for row in tdt:\n",
        "  s1 = row['description']\n",
        "\n",
        "  for desc in wdt:\n",
        "    s2 = desc['description']\n",
        "\n",
        "    score = semantic_similarity(s1, s2)\n",
        "    if score>0.75:\n",
        "      match = {\n",
        "          'id': row['id'],\n",
        "          'reference': row['reference'],\n",
        "          'url': desc['url'],\n",
        "          'website_description': desc['description']\n",
        "      }\n",
        "      print(match)\n",
        "      list_matches.append(match.copy())\n",
        "\n"
      ],
      "execution_count": null,
      "outputs": []
    },
    {
      "cell_type": "code",
      "metadata": {
        "colab": {
          "base_uri": "https://localhost:8080/"
        },
        "id": "qjxHr3gT6Ivo",
        "outputId": "077bb0d1-23d3-453e-c022-4fba97961567"
      },
      "source": [
        "      match = {\n",
        "          'id': row['id'],\n",
        "          'reference': row['reference'],\n",
        "          'url': desc['url'],\n",
        "          'website_description': desc['description']\n",
        "      }\n",
        "      print(match)"
      ],
      "execution_count": 41,
      "outputs": [
        {
          "output_type": "stream",
          "name": "stdout",
          "text": [
            "{'id': 'DATA-AIML-DYNP', 'reference': 'Advanced Data Insights:AI/ML:Dynamic Price and Promo', 'url': 'activeviam.com', 'website_description': 'Analyze data in real-time and empower your firm with data-driven decisions. Risk management solutions. Financial regulation compliance.'}\n"
          ]
        }
      ]
    },
    {
      "cell_type": "code",
      "metadata": {
        "id": "ekZJneg6rGGS"
      },
      "source": [
        "dfl = pd.DataFrame(list_matches)"
      ],
      "execution_count": null,
      "outputs": []
    },
    {
      "cell_type": "code",
      "metadata": {
        "id": "TKOYVN-krIWP"
      },
      "source": [
        "dfl.to_csv('/content/drive/MyDrive/project_data/retail_websites_taxonomy_matches.csv', index=False, encoding='utf-8')"
      ],
      "execution_count": null,
      "outputs": []
    }
  ]
}